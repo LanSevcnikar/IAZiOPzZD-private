{
 "cells": [
  {
   "cell_type": "code",
   "execution_count": 1,
   "metadata": {},
   "outputs": [],
   "source": [
    "import pandas as pd"
   ]
  },
  {
   "cell_type": "code",
   "execution_count": 2,
   "metadata": {},
   "outputs": [],
   "source": [
    "\n",
    "# load data\n",
    "df = pd.read_csv(\"../European Air Quality Portal - E1 Download/pollutants.csv\", encoding=\"utf-8\", sep=\";\")\n",
    "\n",
    "# Aggregate the average across multiple years for each location and type\n",
    "df_avg = df.groupby(['city', 'Pollutant'])['Average Concentration'].mean().reset_index()\n",
    "\n",
    "# Pivot the data so each type is in its own column\n",
    "df_pivot = df_avg.pivot(index='city', columns='Pollutant', values='Average Concentration').reset_index()\n",
    "\n",
    "# rename the city column to NUTS Region\n",
    "df_pivot = df_pivot.rename(columns={\"city\": \"NUTS Region\"})\n",
    "\n",
    "# Save the output\n",
    "df_pivot.to_csv('input.csv', index=False, encoding=\"utf-8\", sep=\";\")\n"
   ]
  },
  {
   "cell_type": "code",
   "execution_count": 3,
   "metadata": {},
   "outputs": [],
   "source": [
    "\n",
    "# load data\n",
    "df = pd.read_csv(\"../EuroStat - GDP/GDP.csv\", encoding=\"utf-8\", sep=\";\")\n",
    "\n",
    "# Aggregate the average across multiple years for each location and type\n",
    "df_avg = df.groupby(['city_name', 'unit'])['value'].mean().reset_index()\n",
    "\n",
    "# Pivot the data so each type is in its own column\n",
    "df_pivot = df_avg.pivot(index='city_name', columns='unit', values='value').reset_index()\n",
    "\n",
    "# rename the city column to NUTS Region\n",
    "df_pivot = df_pivot.rename(columns={\"city_name\": \"NUTS Region\"})\n",
    "\n",
    "# Save the output\n",
    "df_pivot.to_csv('control_1.csv', index=False, encoding=\"utf-8\", sep=\";\")\n"
   ]
  },
  {
   "cell_type": "code",
   "execution_count": 7,
   "metadata": {},
   "outputs": [
    {
     "name": "stderr",
     "output_type": "stream",
     "text": [
      "C:\\Users\\sevcn\\AppData\\Local\\Temp\\ipykernel_5684\\2679311508.py:5: UserWarning: Boolean Series key will be reindexed to match DataFrame index.\n",
      "  df = df[df[\"sex\"] == \"Total\"][df[\"age\"] == 'Total']\n"
     ]
    },
    {
     "ename": "KeyError",
     "evalue": "'name'",
     "output_type": "error",
     "traceback": [
      "\u001b[1;31m---------------------------------------------------------------------------\u001b[0m",
      "\u001b[1;31mKeyError\u001b[0m                                  Traceback (most recent call last)",
      "File \u001b[1;32mc:\\Python39\\lib\\site-packages\\pandas\\core\\indexes\\base.py:3803\u001b[0m, in \u001b[0;36mIndex.get_loc\u001b[1;34m(self, key, method, tolerance)\u001b[0m\n\u001b[0;32m   3802\u001b[0m \u001b[39mtry\u001b[39;00m:\n\u001b[1;32m-> 3803\u001b[0m     \u001b[39mreturn\u001b[39;00m \u001b[39mself\u001b[39;49m\u001b[39m.\u001b[39;49m_engine\u001b[39m.\u001b[39;49mget_loc(casted_key)\n\u001b[0;32m   3804\u001b[0m \u001b[39mexcept\u001b[39;00m \u001b[39mKeyError\u001b[39;00m \u001b[39mas\u001b[39;00m err:\n",
      "File \u001b[1;32mc:\\Python39\\lib\\site-packages\\pandas\\_libs\\index.pyx:138\u001b[0m, in \u001b[0;36mpandas._libs.index.IndexEngine.get_loc\u001b[1;34m()\u001b[0m\n",
      "File \u001b[1;32mc:\\Python39\\lib\\site-packages\\pandas\\_libs\\index.pyx:165\u001b[0m, in \u001b[0;36mpandas._libs.index.IndexEngine.get_loc\u001b[1;34m()\u001b[0m\n",
      "File \u001b[1;32mpandas\\_libs\\hashtable_class_helper.pxi:5745\u001b[0m, in \u001b[0;36mpandas._libs.hashtable.PyObjectHashTable.get_item\u001b[1;34m()\u001b[0m\n",
      "File \u001b[1;32mpandas\\_libs\\hashtable_class_helper.pxi:5753\u001b[0m, in \u001b[0;36mpandas._libs.hashtable.PyObjectHashTable.get_item\u001b[1;34m()\u001b[0m\n",
      "\u001b[1;31mKeyError\u001b[0m: 'name'",
      "\nThe above exception was the direct cause of the following exception:\n",
      "\u001b[1;31mKeyError\u001b[0m                                  Traceback (most recent call last)",
      "Cell \u001b[1;32mIn[7], line 10\u001b[0m\n\u001b[0;32m      7\u001b[0m df_avg \u001b[39m=\u001b[39m df[\u001b[39m'\u001b[39m\u001b[39mvalue\u001b[39m\u001b[39m'\u001b[39m]\u001b[39m.\u001b[39mmean()\u001b[39m.\u001b[39mreset_index()\n\u001b[0;32m      9\u001b[0m \u001b[39m# Pivot the data so each type is in its own column\u001b[39;00m\n\u001b[1;32m---> 10\u001b[0m df_pivot \u001b[39m=\u001b[39m df_avg\u001b[39m.\u001b[39;49mpivot(index\u001b[39m=\u001b[39;49m\u001b[39m'\u001b[39;49m\u001b[39mcity_code\u001b[39;49m\u001b[39m'\u001b[39;49m, columns\u001b[39m=\u001b[39;49m\u001b[39m'\u001b[39;49m\u001b[39mname\u001b[39;49m\u001b[39m'\u001b[39;49m, values\u001b[39m=\u001b[39;49m\u001b[39m'\u001b[39;49m\u001b[39mvalue\u001b[39;49m\u001b[39m'\u001b[39;49m)\u001b[39m.\u001b[39mreset_index()\n\u001b[0;32m     12\u001b[0m \u001b[39m# rename the city column to NUTS Region\u001b[39;00m\n\u001b[0;32m     13\u001b[0m df_pivot \u001b[39m=\u001b[39m df_pivot\u001b[39m.\u001b[39mrename(columns\u001b[39m=\u001b[39m{\u001b[39m\"\u001b[39m\u001b[39mcity_code\u001b[39m\u001b[39m\"\u001b[39m: \u001b[39m\"\u001b[39m\u001b[39mNUTS Region\u001b[39m\u001b[39m\"\u001b[39m})\n",
      "File \u001b[1;32mc:\\Python39\\lib\\site-packages\\pandas\\util\\_decorators.py:331\u001b[0m, in \u001b[0;36mdeprecate_nonkeyword_arguments.<locals>.decorate.<locals>.wrapper\u001b[1;34m(*args, **kwargs)\u001b[0m\n\u001b[0;32m    325\u001b[0m \u001b[39mif\u001b[39;00m \u001b[39mlen\u001b[39m(args) \u001b[39m>\u001b[39m num_allow_args:\n\u001b[0;32m    326\u001b[0m     warnings\u001b[39m.\u001b[39mwarn(\n\u001b[0;32m    327\u001b[0m         msg\u001b[39m.\u001b[39mformat(arguments\u001b[39m=\u001b[39m_format_argument_list(allow_args)),\n\u001b[0;32m    328\u001b[0m         \u001b[39mFutureWarning\u001b[39;00m,\n\u001b[0;32m    329\u001b[0m         stacklevel\u001b[39m=\u001b[39mfind_stack_level(),\n\u001b[0;32m    330\u001b[0m     )\n\u001b[1;32m--> 331\u001b[0m \u001b[39mreturn\u001b[39;00m func(\u001b[39m*\u001b[39margs, \u001b[39m*\u001b[39m\u001b[39m*\u001b[39mkwargs)\n",
      "File \u001b[1;32mc:\\Python39\\lib\\site-packages\\pandas\\core\\frame.py:8564\u001b[0m, in \u001b[0;36mDataFrame.pivot\u001b[1;34m(self, index, columns, values)\u001b[0m\n\u001b[0;32m   8558\u001b[0m \u001b[39m@Substitution\u001b[39m(\u001b[39m\"\u001b[39m\u001b[39m\"\u001b[39m)\n\u001b[0;32m   8559\u001b[0m \u001b[39m@Appender\u001b[39m(_shared_docs[\u001b[39m\"\u001b[39m\u001b[39mpivot\u001b[39m\u001b[39m\"\u001b[39m])\n\u001b[0;32m   8560\u001b[0m \u001b[39m@deprecate_nonkeyword_arguments\u001b[39m(version\u001b[39m=\u001b[39m\u001b[39mNone\u001b[39;00m, allowed_args\u001b[39m=\u001b[39m[\u001b[39m\"\u001b[39m\u001b[39mself\u001b[39m\u001b[39m\"\u001b[39m])\n\u001b[0;32m   8561\u001b[0m \u001b[39mdef\u001b[39;00m \u001b[39mpivot\u001b[39m(\u001b[39mself\u001b[39m, index\u001b[39m=\u001b[39m\u001b[39mNone\u001b[39;00m, columns\u001b[39m=\u001b[39m\u001b[39mNone\u001b[39;00m, values\u001b[39m=\u001b[39m\u001b[39mNone\u001b[39;00m) \u001b[39m-\u001b[39m\u001b[39m>\u001b[39m DataFrame:\n\u001b[0;32m   8562\u001b[0m     \u001b[39mfrom\u001b[39;00m \u001b[39mpandas\u001b[39;00m\u001b[39m.\u001b[39;00m\u001b[39mcore\u001b[39;00m\u001b[39m.\u001b[39;00m\u001b[39mreshape\u001b[39;00m\u001b[39m.\u001b[39;00m\u001b[39mpivot\u001b[39;00m \u001b[39mimport\u001b[39;00m pivot\n\u001b[1;32m-> 8564\u001b[0m     \u001b[39mreturn\u001b[39;00m pivot(\u001b[39mself\u001b[39;49m, index\u001b[39m=\u001b[39;49mindex, columns\u001b[39m=\u001b[39;49mcolumns, values\u001b[39m=\u001b[39;49mvalues)\n",
      "File \u001b[1;32mc:\\Python39\\lib\\site-packages\\pandas\\util\\_decorators.py:331\u001b[0m, in \u001b[0;36mdeprecate_nonkeyword_arguments.<locals>.decorate.<locals>.wrapper\u001b[1;34m(*args, **kwargs)\u001b[0m\n\u001b[0;32m    325\u001b[0m \u001b[39mif\u001b[39;00m \u001b[39mlen\u001b[39m(args) \u001b[39m>\u001b[39m num_allow_args:\n\u001b[0;32m    326\u001b[0m     warnings\u001b[39m.\u001b[39mwarn(\n\u001b[0;32m    327\u001b[0m         msg\u001b[39m.\u001b[39mformat(arguments\u001b[39m=\u001b[39m_format_argument_list(allow_args)),\n\u001b[0;32m    328\u001b[0m         \u001b[39mFutureWarning\u001b[39;00m,\n\u001b[0;32m    329\u001b[0m         stacklevel\u001b[39m=\u001b[39mfind_stack_level(),\n\u001b[0;32m    330\u001b[0m     )\n\u001b[1;32m--> 331\u001b[0m \u001b[39mreturn\u001b[39;00m func(\u001b[39m*\u001b[39margs, \u001b[39m*\u001b[39m\u001b[39m*\u001b[39mkwargs)\n",
      "File \u001b[1;32mc:\\Python39\\lib\\site-packages\\pandas\\core\\reshape\\pivot.py:525\u001b[0m, in \u001b[0;36mpivot\u001b[1;34m(data, index, columns, values)\u001b[0m\n\u001b[0;32m    522\u001b[0m \u001b[39melse\u001b[39;00m:\n\u001b[0;32m    523\u001b[0m     index_list \u001b[39m=\u001b[39m [data[idx] \u001b[39mfor\u001b[39;00m idx \u001b[39min\u001b[39;00m com\u001b[39m.\u001b[39mconvert_to_list_like(index)]\n\u001b[1;32m--> 525\u001b[0m data_columns \u001b[39m=\u001b[39m [data[col] \u001b[39mfor\u001b[39;00m col \u001b[39min\u001b[39;00m columns_listlike]\n\u001b[0;32m    526\u001b[0m index_list\u001b[39m.\u001b[39mextend(data_columns)\n\u001b[0;32m    527\u001b[0m multiindex \u001b[39m=\u001b[39m MultiIndex\u001b[39m.\u001b[39mfrom_arrays(index_list)\n",
      "File \u001b[1;32mc:\\Python39\\lib\\site-packages\\pandas\\core\\reshape\\pivot.py:525\u001b[0m, in \u001b[0;36m<listcomp>\u001b[1;34m(.0)\u001b[0m\n\u001b[0;32m    522\u001b[0m \u001b[39melse\u001b[39;00m:\n\u001b[0;32m    523\u001b[0m     index_list \u001b[39m=\u001b[39m [data[idx] \u001b[39mfor\u001b[39;00m idx \u001b[39min\u001b[39;00m com\u001b[39m.\u001b[39mconvert_to_list_like(index)]\n\u001b[1;32m--> 525\u001b[0m data_columns \u001b[39m=\u001b[39m [data[col] \u001b[39mfor\u001b[39;00m col \u001b[39min\u001b[39;00m columns_listlike]\n\u001b[0;32m    526\u001b[0m index_list\u001b[39m.\u001b[39mextend(data_columns)\n\u001b[0;32m    527\u001b[0m multiindex \u001b[39m=\u001b[39m MultiIndex\u001b[39m.\u001b[39mfrom_arrays(index_list)\n",
      "File \u001b[1;32mc:\\Python39\\lib\\site-packages\\pandas\\core\\frame.py:3805\u001b[0m, in \u001b[0;36mDataFrame.__getitem__\u001b[1;34m(self, key)\u001b[0m\n\u001b[0;32m   3803\u001b[0m \u001b[39mif\u001b[39;00m \u001b[39mself\u001b[39m\u001b[39m.\u001b[39mcolumns\u001b[39m.\u001b[39mnlevels \u001b[39m>\u001b[39m \u001b[39m1\u001b[39m:\n\u001b[0;32m   3804\u001b[0m     \u001b[39mreturn\u001b[39;00m \u001b[39mself\u001b[39m\u001b[39m.\u001b[39m_getitem_multilevel(key)\n\u001b[1;32m-> 3805\u001b[0m indexer \u001b[39m=\u001b[39m \u001b[39mself\u001b[39;49m\u001b[39m.\u001b[39;49mcolumns\u001b[39m.\u001b[39;49mget_loc(key)\n\u001b[0;32m   3806\u001b[0m \u001b[39mif\u001b[39;00m is_integer(indexer):\n\u001b[0;32m   3807\u001b[0m     indexer \u001b[39m=\u001b[39m [indexer]\n",
      "File \u001b[1;32mc:\\Python39\\lib\\site-packages\\pandas\\core\\indexes\\base.py:3805\u001b[0m, in \u001b[0;36mIndex.get_loc\u001b[1;34m(self, key, method, tolerance)\u001b[0m\n\u001b[0;32m   3803\u001b[0m     \u001b[39mreturn\u001b[39;00m \u001b[39mself\u001b[39m\u001b[39m.\u001b[39m_engine\u001b[39m.\u001b[39mget_loc(casted_key)\n\u001b[0;32m   3804\u001b[0m \u001b[39mexcept\u001b[39;00m \u001b[39mKeyError\u001b[39;00m \u001b[39mas\u001b[39;00m err:\n\u001b[1;32m-> 3805\u001b[0m     \u001b[39mraise\u001b[39;00m \u001b[39mKeyError\u001b[39;00m(key) \u001b[39mfrom\u001b[39;00m \u001b[39merr\u001b[39;00m\n\u001b[0;32m   3806\u001b[0m \u001b[39mexcept\u001b[39;00m \u001b[39mTypeError\u001b[39;00m:\n\u001b[0;32m   3807\u001b[0m     \u001b[39m# If we have a listlike key, _check_indexing_error will raise\u001b[39;00m\n\u001b[0;32m   3808\u001b[0m     \u001b[39m#  InvalidIndexError. Otherwise we fall through and re-raise\u001b[39;00m\n\u001b[0;32m   3809\u001b[0m     \u001b[39m#  the TypeError.\u001b[39;00m\n\u001b[0;32m   3810\u001b[0m     \u001b[39mself\u001b[39m\u001b[39m.\u001b[39m_check_indexing_error(key)\n",
      "\u001b[1;31mKeyError\u001b[0m: 'name'"
     ]
    }
   ],
   "source": [
    "# load data\n",
    "df = pd.read_csv(\"../EuroStat - Health Data/health.csv\", encoding=\"utf-8\", sep=\";\")\n",
    "\n",
    "# Aggregate the average across multiple years for each location and type\n",
    "df = df[df[\"sex\"] == \"Total\"][df[\"age\"] == 'Total']\n",
    "df = df.groupby(['city_code'])\n",
    "df_avg = df['value'].mean().reset_index()\n",
    "\n",
    "# Pivot the data so each type is in its own column\n",
    "df_pivot = df_avg.pivot(index='city_code', columns='name', values='value').reset_index()\n",
    "\n",
    "# rename the city column to NUTS Region\n",
    "df_pivot = df_pivot.rename(columns={\"city_code\": \"NUTS Region\"})\n",
    "\n",
    "# Save the output\n",
    "df_pivot.to_csv('output.csv', index=False, encoding=\"utf-8\", sep=\";\")"
   ]
  }
 ],
 "metadata": {
  "kernelspec": {
   "display_name": "Python 3",
   "language": "python",
   "name": "python3"
  },
  "language_info": {
   "codemirror_mode": {
    "name": "ipython",
    "version": 3
   },
   "file_extension": ".py",
   "mimetype": "text/x-python",
   "name": "python",
   "nbconvert_exporter": "python",
   "pygments_lexer": "ipython3",
   "version": "3.9.6"
  },
  "orig_nbformat": 4
 },
 "nbformat": 4,
 "nbformat_minor": 2
}
